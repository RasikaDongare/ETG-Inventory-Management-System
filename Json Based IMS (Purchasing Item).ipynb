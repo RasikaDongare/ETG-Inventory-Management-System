{
 "cells": [
  {
   "cell_type": "code",
   "execution_count": 7,
   "id": "9f2065be",
   "metadata": {},
   "outputs": [],
   "source": [
    "import json"
   ]
  },
  {
   "cell_type": "code",
   "execution_count": 8,
   "id": "165d1481",
   "metadata": {},
   "outputs": [],
   "source": [
    "fd=open('Record.json','r')\n",
    "r=fd.read()\n",
    "fd.close()\n",
    "\n",
    "record=json.loads(r)"
   ]
  },
  {
   "cell_type": "code",
   "execution_count": 9,
   "id": "e7d3bacc",
   "metadata": {},
   "outputs": [
    {
     "name": "stdout",
     "output_type": "stream",
     "text": [
      "Enter the product id: 1005\n",
      "Product Name:  Lotus\n",
      "Product Shade:  Berry\n",
      "Price:  1255\n",
      "Discount:  40\n",
      "Enter y to purchase product: N\n",
      "Product not purchased\n",
      "Billing amount =  0.0\n"
     ]
    }
   ],
   "source": [
    "prod_id=input((\"Enter the product id: \"))\n",
    "if prod_id in record:\n",
    "    print(\"Product Name: \",record[prod_id]['name'])\n",
    "    print(\"Product Shade: \",record[prod_id]['shade'])\n",
    "    print(\"Price: \",record[prod_id]['price'])\n",
    "    print(\"Discount: \",record[prod_id]['discount'])\n",
    "    purchase=input(\"Enter y to purchase product: \")\n",
    "    if(purchase=='y'or purchase=='Y'):\n",
    "        ui_qty=int(input((\"Enter the no. of quantity: \")))\n",
    "    else:\n",
    "        print(\"Product not purchased\")\n",
    "        ui_qty=0\n",
    "    total=record[prod_id]['price']*ui_qty\n",
    "    total_disc=total-(total*(record[prod_id]['discount'])/100)\n",
    "    print(\"Billing amount = \",total_disc)\n",
    "else:print(\"Product id not found\")"
   ]
  },
  {
   "cell_type": "code",
   "execution_count": 10,
   "id": "d98acab1",
   "metadata": {},
   "outputs": [],
   "source": [
    "record[prod_id]['qty']-=ui_qty"
   ]
  },
  {
   "cell_type": "code",
   "execution_count": 11,
   "id": "6775d961",
   "metadata": {},
   "outputs": [],
   "source": [
    "new=json.dumps(record)\n",
    "\n",
    "fd=open('Record.json','w')\n",
    "fd.write(new)\n",
    "fd.close()"
   ]
  },
  {
   "cell_type": "code",
   "execution_count": 12,
   "id": "21db2651",
   "metadata": {},
   "outputs": [
    {
     "data": {
      "text/plain": [
       "{'1001': {'name': 'MAC',\n",
       "  'shade': 'Beige',\n",
       "  'price': 1999,\n",
       "  'qty': 100,\n",
       "  'discount': 15},\n",
       " '1002': {'name': 'Lakme',\n",
       "  'shade': 'Light',\n",
       "  'price': 999,\n",
       "  'qty': 155,\n",
       "  'discount': 10},\n",
       " '1003': {'name': 'Rare',\n",
       "  'shade': 'Dark',\n",
       "  'price': 1500,\n",
       "  'qty': 500,\n",
       "  'discount': 20},\n",
       " '1004': {'name': 'Lush',\n",
       "  'shade': 'Medium',\n",
       "  'price': 699,\n",
       "  'qty': 30,\n",
       "  'discount': 5},\n",
       " '1005': {'name': 'Lotus',\n",
       "  'shade': 'Berry',\n",
       "  'price': 1255,\n",
       "  'qty': 500,\n",
       "  'discount': 40},\n",
       " '1006': {'name': 'Kylie',\n",
       "  'shade': 'Sweet',\n",
       "  'price': 4599,\n",
       "  'qty': 2200,\n",
       "  'discount': 25},\n",
       " '1007': {'name': 'Nars',\n",
       "  'shade': 'Warm',\n",
       "  'price': 3000,\n",
       "  'qty': 250,\n",
       "  'discount': 25},\n",
       " '1008': {'name': 'Fenti',\n",
       "  'shade': 'Dark',\n",
       "  'price': 2999,\n",
       "  'qty': 1005,\n",
       "  'discount': 45},\n",
       " '1009': {'name': 'Maybelline',\n",
       "  'shade': 'Cappuccino',\n",
       "  'price': 399,\n",
       "  'qty': 400,\n",
       "  'discount': 25},\n",
       " '1010': {'name': 'Beverly Hills',\n",
       "  'shade': 'Almond',\n",
       "  'price': 3499,\n",
       "  'qty': 700,\n",
       "  'discount': 50},\n",
       " '1011': {'name': 'Lakme',\n",
       "  'shade': 'Pure White',\n",
       "  'price': 500,\n",
       "  'qty': 350,\n",
       "  'discount': 45},\n",
       " '1012': {'name': 'Clinique',\n",
       "  'shade': 'Neutral',\n",
       "  'price': 4599,\n",
       "  'qty': 650,\n",
       "  'discount': 25},\n",
       " '1013': {'name': 'Bobbi Brown',\n",
       "  'shade': 'Versatile Brown',\n",
       "  'price': 2559,\n",
       "  'qty': 645,\n",
       "  'discount': 25},\n",
       " '1014': {'name': 'Urban Decay',\n",
       "  'shade': 'lighter',\n",
       "  'price': 2500,\n",
       "  'qty': 100,\n",
       "  'discount': 10},\n",
       " '1015': {'name': 'Dior',\n",
       "  'shade': 'Vanilla White',\n",
       "  'price': 6999,\n",
       "  'qty': 350,\n",
       "  'discount': 30},\n",
       " '1016': {'name': 'Cover Girl',\n",
       "  'shade': 'Warm Beige',\n",
       "  'price': 4599,\n",
       "  'qty': 60,\n",
       "  'discount': 5},\n",
       " '1017': {'name': 'Smash Box',\n",
       "  'shade': 'Purple',\n",
       "  'price': 2899,\n",
       "  'qty': 500,\n",
       "  'discount': 50},\n",
       " '1018': {'name': 'Too Faced',\n",
       "  'shade': 'Glitter',\n",
       "  'price': 1999,\n",
       "  'qty': 95,\n",
       "  'discount': 10},\n",
       " '1019': {'name': 'Sephora',\n",
       "  'shade': 'Blush',\n",
       "  'price': 4999,\n",
       "  'qty': 300,\n",
       "  'discount': 20},\n",
       " '1020': {'name': 'Chanel',\n",
       "  'shade': 'Pearl',\n",
       "  'price': 5000,\n",
       "  'qty': 10,\n",
       "  'discount': 5},\n",
       " '1021': {'name': 'Revlon',\n",
       "  'shade': 'Brownie',\n",
       "  'price': 3599,\n",
       "  'qty': 300,\n",
       "  'discount': 15},\n",
       " '1022': {'name': 'Dior',\n",
       "  'shade': 'Pink',\n",
       "  'price': 6000,\n",
       "  'qty': 380,\n",
       "  'discount': 15},\n",
       " '1023': {'name': 'BabyLips',\n",
       "  'shade': 'Red',\n",
       "  'price': 60,\n",
       "  'qty': 500,\n",
       "  'discount': 10},\n",
       " '1024': {'name': 'Lakme',\n",
       "  'shade': 'Dark Brown',\n",
       "  'price': 499,\n",
       "  'qty': 5000,\n",
       "  'discount': 10},\n",
       " '1025': {'name': 'Rare',\n",
       "  'shade': 'Medium Brown',\n",
       "  'price': 900,\n",
       "  'qty': 1500,\n",
       "  'discount': 25},\n",
       " '1026': {'name': 'KKW',\n",
       "  'shade': 'Warm white',\n",
       "  'price': 5000,\n",
       "  'qty': 200,\n",
       "  'discount': 30},\n",
       " '1027': {'name': 'Wild',\n",
       "  'shade': 'Light pink',\n",
       "  'price': 2500,\n",
       "  'qty': 200,\n",
       "  'discount': 10},\n",
       " '1028': {'name': 'Nars',\n",
       "  'shade': 'Lilac',\n",
       "  'price': 2500,\n",
       "  'qty': 150,\n",
       "  'discount': 25},\n",
       " '1029': {'name': 'Chanel',\n",
       "  'shade': 'Almond Brown',\n",
       "  'price': 6000,\n",
       "  'qty': 15,\n",
       "  'discount': 5},\n",
       " '1030': {'name': 'Lush',\n",
       "  'shade': 'Darker Brown',\n",
       "  'price': 340,\n",
       "  'qty': 100,\n",
       "  'discount': 35}}"
      ]
     },
     "execution_count": 12,
     "metadata": {},
     "output_type": "execute_result"
    }
   ],
   "source": [
    "record"
   ]
  },
  {
   "cell_type": "markdown",
   "id": "e1e9975a",
   "metadata": {},
   "source": [
    "# Sales\n"
   ]
  },
  {
   "cell_type": "code",
   "execution_count": 21,
   "id": "caf49df6",
   "metadata": {},
   "outputs": [],
   "source": [
    "#fd= open('Sales.json','w')\n",
    "#fd.close()"
   ]
  },
  {
   "cell_type": "code",
   "execution_count": 13,
   "id": "d0ab5c42",
   "metadata": {},
   "outputs": [],
   "source": [
    "sales={'prod_id':prod_id,'qty':ui_qty,'total bill':total,'discounted bill':total_disc}"
   ]
  },
  {
   "cell_type": "code",
   "execution_count": 14,
   "id": "b9d2c19b",
   "metadata": {},
   "outputs": [],
   "source": [
    "new_sales=json.dumps(sales)"
   ]
  },
  {
   "cell_type": "code",
   "execution_count": 15,
   "id": "f8994976",
   "metadata": {},
   "outputs": [],
   "source": [
    "fd=open('Sales.json','a')\n",
    "fd.write(new_sales)\n",
    "fd.close()"
   ]
  },
  {
   "cell_type": "code",
   "execution_count": 16,
   "id": "2e93ffb1",
   "metadata": {},
   "outputs": [],
   "source": [
    "fd= open('Sales.json','r')\n",
    "r=fd.read()\n",
    "fd.close()"
   ]
  },
  {
   "cell_type": "code",
   "execution_count": 17,
   "id": "8a12391a",
   "metadata": {},
   "outputs": [
    {
     "data": {
      "text/plain": [
       "'{\"prod_id\": \"1005\", \"qty\": 0, \"total bill\": 0, \"discounted bill\": 0.0}'"
      ]
     },
     "execution_count": 17,
     "metadata": {},
     "output_type": "execute_result"
    }
   ],
   "source": [
    "r"
   ]
  },
  {
   "cell_type": "code",
   "execution_count": 18,
   "id": "357b4221",
   "metadata": {},
   "outputs": [],
   "source": [
    "sales=json.loads(r)"
   ]
  }
 ],
 "metadata": {
  "kernelspec": {
   "display_name": "Python 3",
   "language": "python",
   "name": "python3"
  },
  "language_info": {
   "codemirror_mode": {
    "name": "ipython",
    "version": 3
   },
   "file_extension": ".py",
   "mimetype": "text/x-python",
   "name": "python",
   "nbconvert_exporter": "python",
   "pygments_lexer": "ipython3",
   "version": "3.8.8"
  }
 },
 "nbformat": 4,
 "nbformat_minor": 5
}
