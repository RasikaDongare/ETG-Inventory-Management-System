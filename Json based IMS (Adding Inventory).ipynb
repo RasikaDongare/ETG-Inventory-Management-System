{
 "cells": [
  {
   "cell_type": "markdown",
   "id": "39244965",
   "metadata": {},
   "source": [
    "# Creating Json File"
   ]
  },
  {
   "cell_type": "code",
   "execution_count": 6,
   "id": "89aca2d0",
   "metadata": {},
   "outputs": [],
   "source": [
    "#fd = open('Record.json','w')\n",
    "#fd.close()"
   ]
  },
  {
   "cell_type": "markdown",
   "id": "d6e342ec",
   "metadata": {},
   "source": [
    "# First creation of record"
   ]
  },
  {
   "cell_type": "code",
   "execution_count": 2,
   "id": "280031d1",
   "metadata": {},
   "outputs": [],
   "source": [
    "record={}"
   ]
  },
  {
   "cell_type": "markdown",
   "id": "31028470",
   "metadata": {},
   "source": [
    "# Adding in inventory"
   ]
  },
  {
   "cell_type": "code",
   "execution_count": 1,
   "id": "bd6ce337",
   "metadata": {},
   "outputs": [],
   "source": [
    "import json"
   ]
  },
  {
   "cell_type": "code",
   "execution_count": 2,
   "id": "560a7183",
   "metadata": {},
   "outputs": [],
   "source": [
    "fd = open('Record.json','r')\n",
    "r=fd.read()\n",
    "fd.close()"
   ]
  },
  {
   "cell_type": "code",
   "execution_count": 3,
   "id": "52035984",
   "metadata": {},
   "outputs": [],
   "source": [
    "record=json.loads(r)"
   ]
  },
  {
   "cell_type": "code",
   "execution_count": 4,
   "id": "efbe208f",
   "metadata": {},
   "outputs": [
    {
     "ename": "KeyboardInterrupt",
     "evalue": "Interrupted by user",
     "output_type": "error",
     "traceback": [
      "\u001b[1;31m---------------------------------------------------------------------------\u001b[0m",
      "\u001b[1;31mKeyboardInterrupt\u001b[0m                         Traceback (most recent call last)",
      "\u001b[1;32m<ipython-input-4-2d18305232a6>\u001b[0m in \u001b[0;36m<module>\u001b[1;34m\u001b[0m\n\u001b[1;32m----> 1\u001b[1;33m \u001b[0mprod_id\u001b[0m\u001b[1;33m=\u001b[0m\u001b[0minput\u001b[0m\u001b[1;33m(\u001b[0m\u001b[1;34m\"Enter product id:\"\u001b[0m\u001b[1;33m)\u001b[0m\u001b[1;33m\u001b[0m\u001b[1;33m\u001b[0m\u001b[0m\n\u001b[0m\u001b[0;32m      2\u001b[0m \u001b[1;32mif\u001b[0m \u001b[0mprod_id\u001b[0m \u001b[1;32min\u001b[0m \u001b[0mrecord\u001b[0m\u001b[1;33m:\u001b[0m\u001b[1;33m\u001b[0m\u001b[1;33m\u001b[0m\u001b[0m\n\u001b[0;32m      3\u001b[0m     \u001b[0mprint\u001b[0m\u001b[1;33m(\u001b[0m\u001b[1;34m\"Product id already present. Update quantity to be added\"\u001b[0m\u001b[1;33m)\u001b[0m\u001b[1;33m\u001b[0m\u001b[1;33m\u001b[0m\u001b[0m\n\u001b[0;32m      4\u001b[0m     \u001b[0mqty\u001b[0m\u001b[1;33m=\u001b[0m\u001b[0mint\u001b[0m\u001b[1;33m(\u001b[0m\u001b[0minput\u001b[0m\u001b[1;33m(\u001b[0m\u001b[1;34m\"Enter quantity: \"\u001b[0m\u001b[1;33m)\u001b[0m\u001b[1;33m)\u001b[0m\u001b[1;33m\u001b[0m\u001b[1;33m\u001b[0m\u001b[0m\n\u001b[0;32m      5\u001b[0m     \u001b[0mqty\u001b[0m\u001b[1;33m+=\u001b[0m\u001b[0mrecord\u001b[0m\u001b[1;33m[\u001b[0m\u001b[0mprod_id\u001b[0m\u001b[1;33m]\u001b[0m\u001b[1;33m[\u001b[0m\u001b[1;34m'qty'\u001b[0m\u001b[1;33m]\u001b[0m\u001b[1;33m\u001b[0m\u001b[1;33m\u001b[0m\u001b[0m\n",
      "\u001b[1;32m~\\anaconda3\\lib\\site-packages\\ipykernel\\kernelbase.py\u001b[0m in \u001b[0;36mraw_input\u001b[1;34m(self, prompt)\u001b[0m\n\u001b[0;32m    858\u001b[0m                 \u001b[1;34m\"raw_input was called, but this frontend does not support input requests.\"\u001b[0m\u001b[1;33m\u001b[0m\u001b[1;33m\u001b[0m\u001b[0m\n\u001b[0;32m    859\u001b[0m             )\n\u001b[1;32m--> 860\u001b[1;33m         return self._input_request(str(prompt),\n\u001b[0m\u001b[0;32m    861\u001b[0m             \u001b[0mself\u001b[0m\u001b[1;33m.\u001b[0m\u001b[0m_parent_ident\u001b[0m\u001b[1;33m,\u001b[0m\u001b[1;33m\u001b[0m\u001b[1;33m\u001b[0m\u001b[0m\n\u001b[0;32m    862\u001b[0m             \u001b[0mself\u001b[0m\u001b[1;33m.\u001b[0m\u001b[0m_parent_header\u001b[0m\u001b[1;33m,\u001b[0m\u001b[1;33m\u001b[0m\u001b[1;33m\u001b[0m\u001b[0m\n",
      "\u001b[1;32m~\\anaconda3\\lib\\site-packages\\ipykernel\\kernelbase.py\u001b[0m in \u001b[0;36m_input_request\u001b[1;34m(self, prompt, ident, parent, password)\u001b[0m\n\u001b[0;32m    902\u001b[0m             \u001b[1;32mexcept\u001b[0m \u001b[0mKeyboardInterrupt\u001b[0m\u001b[1;33m:\u001b[0m\u001b[1;33m\u001b[0m\u001b[1;33m\u001b[0m\u001b[0m\n\u001b[0;32m    903\u001b[0m                 \u001b[1;31m# re-raise KeyboardInterrupt, to truncate traceback\u001b[0m\u001b[1;33m\u001b[0m\u001b[1;33m\u001b[0m\u001b[1;33m\u001b[0m\u001b[0m\n\u001b[1;32m--> 904\u001b[1;33m                 \u001b[1;32mraise\u001b[0m \u001b[0mKeyboardInterrupt\u001b[0m\u001b[1;33m(\u001b[0m\u001b[1;34m\"Interrupted by user\"\u001b[0m\u001b[1;33m)\u001b[0m \u001b[1;32mfrom\u001b[0m \u001b[1;32mNone\u001b[0m\u001b[1;33m\u001b[0m\u001b[1;33m\u001b[0m\u001b[0m\n\u001b[0m\u001b[0;32m    905\u001b[0m             \u001b[1;32mexcept\u001b[0m \u001b[0mException\u001b[0m \u001b[1;32mas\u001b[0m \u001b[0me\u001b[0m\u001b[1;33m:\u001b[0m\u001b[1;33m\u001b[0m\u001b[1;33m\u001b[0m\u001b[0m\n\u001b[0;32m    906\u001b[0m                 \u001b[0mself\u001b[0m\u001b[1;33m.\u001b[0m\u001b[0mlog\u001b[0m\u001b[1;33m.\u001b[0m\u001b[0mwarning\u001b[0m\u001b[1;33m(\u001b[0m\u001b[1;34m\"Invalid Message:\"\u001b[0m\u001b[1;33m,\u001b[0m \u001b[0mexc_info\u001b[0m\u001b[1;33m=\u001b[0m\u001b[1;32mTrue\u001b[0m\u001b[1;33m)\u001b[0m\u001b[1;33m\u001b[0m\u001b[1;33m\u001b[0m\u001b[0m\n",
      "\u001b[1;31mKeyboardInterrupt\u001b[0m: Interrupted by user"
     ]
    }
   ],
   "source": [
    "prod_id=input(\"Enter product id:\")\n",
    "if prod_id in record:\n",
    "    print(\"Product id already present. Update quantity to be added\")\n",
    "    qty=int(input(\"Enter quantity: \"))\n",
    "    qty+=record[prod_id]['qty']\n",
    "else:\n",
    "    prod_name=input(\"Enter product name: \")\n",
    "    shade=input(\"Enter shade name: \")\n",
    "    price=int(input(\"Enter price: \"))\n",
    "    qty=int(input(\"Enter quantity: \"))\n",
    "    dis=int(input(\"Enter discount: \"))\n",
    "    \n",
    "    record[prod_id]={'name':prod_name,'shade':shade,'price':price,'qty':qty,'discount':dis}"
   ]
  },
  {
   "cell_type": "code",
   "execution_count": 90,
   "id": "cbb83bc2",
   "metadata": {},
   "outputs": [
    {
     "data": {
      "text/plain": [
       "{'1001': {'name': 'MAC',\n",
       "  'shade': 'Beige',\n",
       "  'price': 1999,\n",
       "  'qty': 100,\n",
       "  'discount': 15},\n",
       " '1002': {'name': 'Lakme',\n",
       "  'shade': 'Light',\n",
       "  'price': 999,\n",
       "  'qty': 155,\n",
       "  'discount': 10},\n",
       " '1003': {'name': 'Rare',\n",
       "  'shade': 'Dark',\n",
       "  'price': 1500,\n",
       "  'qty': 500,\n",
       "  'discount': 20},\n",
       " '1004': {'name': 'Lush',\n",
       "  'shade': 'Medium',\n",
       "  'price': 699,\n",
       "  'qty': 30,\n",
       "  'discount': 5},\n",
       " '1005': {'name': 'Lotus',\n",
       "  'shade': 'Berry',\n",
       "  'price': 1255,\n",
       "  'qty': 500,\n",
       "  'discount': 40},\n",
       " '1006': {'name': 'Kylie',\n",
       "  'shade': 'Sweet',\n",
       "  'price': 4599,\n",
       "  'qty': 2200,\n",
       "  'discount': 25},\n",
       " '1007': {'name': 'Nars',\n",
       "  'shade': 'Warm',\n",
       "  'price': 3000,\n",
       "  'qty': 250,\n",
       "  'discount': 25},\n",
       " '1008': {'name': 'Fenti',\n",
       "  'shade': 'Dark',\n",
       "  'price': 2999,\n",
       "  'qty': 1005,\n",
       "  'discount': 45},\n",
       " '1009': {'name': 'Maybelline',\n",
       "  'shade': 'Cappuccino',\n",
       "  'price': 399,\n",
       "  'qty': 400,\n",
       "  'discount': 25},\n",
       " '1010': {'name': 'Beverly Hills',\n",
       "  'shade': 'Almond',\n",
       "  'price': 3499,\n",
       "  'qty': 700,\n",
       "  'discount': 50},\n",
       " '1011': {'name': 'Lakme',\n",
       "  'shade': 'Pure White',\n",
       "  'price': 500,\n",
       "  'qty': 350,\n",
       "  'discount': 45},\n",
       " '1012': {'name': 'Clinique',\n",
       "  'shade': 'Neutral',\n",
       "  'price': 4599,\n",
       "  'qty': 650,\n",
       "  'discount': 25},\n",
       " '1013': {'name': 'Bobbi Brown',\n",
       "  'shade': 'Versatile Brown',\n",
       "  'price': 2559,\n",
       "  'qty': 645,\n",
       "  'discount': 25},\n",
       " '1014': {'name': 'Urban Decay',\n",
       "  'shade': 'lighter',\n",
       "  'price': 2500,\n",
       "  'qty': 100,\n",
       "  'discount': 10},\n",
       " '1015': {'name': 'Dior',\n",
       "  'shade': 'Vanilla White',\n",
       "  'price': 6999,\n",
       "  'qty': 350,\n",
       "  'discount': 30},\n",
       " '1016': {'name': 'Cover Girl',\n",
       "  'shade': 'Warm Beige',\n",
       "  'price': 4599,\n",
       "  'qty': 60,\n",
       "  'discount': 5},\n",
       " '1017': {'name': 'Smash Box',\n",
       "  'shade': 'Purple',\n",
       "  'price': 2899,\n",
       "  'qty': 500,\n",
       "  'discount': 50},\n",
       " '1018': {'name': 'Too Faced',\n",
       "  'shade': 'Glitter',\n",
       "  'price': 1999,\n",
       "  'qty': 95,\n",
       "  'discount': 10},\n",
       " '1019': {'name': 'Sephora',\n",
       "  'shade': 'Blush',\n",
       "  'price': 4999,\n",
       "  'qty': 300,\n",
       "  'discount': 20},\n",
       " '1020': {'name': 'Chanel',\n",
       "  'shade': 'Pearl',\n",
       "  'price': 5000,\n",
       "  'qty': 10,\n",
       "  'discount': 5},\n",
       " '1021': {'name': 'Revlon',\n",
       "  'shade': 'Brownie',\n",
       "  'price': 3599,\n",
       "  'qty': 300,\n",
       "  'discount': 15},\n",
       " '1022': {'name': 'Dior',\n",
       "  'shade': 'Pink',\n",
       "  'price': 6000,\n",
       "  'qty': 380,\n",
       "  'discount': 15},\n",
       " '1023': {'name': 'BabyLips',\n",
       "  'shade': 'Red',\n",
       "  'price': 60,\n",
       "  'qty': 500,\n",
       "  'discount': 10},\n",
       " '1024': {'name': 'Lakme',\n",
       "  'shade': 'Dark Brown',\n",
       "  'price': 499,\n",
       "  'qty': 5000,\n",
       "  'discount': 10},\n",
       " '1025': {'name': 'Rare',\n",
       "  'shade': 'Medium Brown',\n",
       "  'price': 900,\n",
       "  'qty': 1500,\n",
       "  'discount': 25},\n",
       " '1026': {'name': 'KKW',\n",
       "  'shade': 'Warm white',\n",
       "  'price': 5000,\n",
       "  'qty': 200,\n",
       "  'discount': 30},\n",
       " '1027': {'name': 'Wild',\n",
       "  'shade': 'Light pink',\n",
       "  'price': 2500,\n",
       "  'qty': 200,\n",
       "  'discount': 10},\n",
       " '1028': {'name': 'Nars',\n",
       "  'shade': 'Lilac',\n",
       "  'price': 2500,\n",
       "  'qty': 150,\n",
       "  'discount': 25},\n",
       " '1029': {'name': 'Chanel',\n",
       "  'shade': 'Almond Brown',\n",
       "  'price': 6000,\n",
       "  'qty': 15,\n",
       "  'discount': 5},\n",
       " '1030': {'name': 'Lush',\n",
       "  'shade': 'Darker Brown',\n",
       "  'price': 340,\n",
       "  'qty': 100,\n",
       "  'discount': 35}}"
      ]
     },
     "execution_count": 90,
     "metadata": {},
     "output_type": "execute_result"
    }
   ],
   "source": [
    "record"
   ]
  },
  {
   "cell_type": "code",
   "execution_count": 5,
   "id": "0025d6a8",
   "metadata": {},
   "outputs": [],
   "source": [
    "new=json.dumps(record)"
   ]
  },
  {
   "cell_type": "code",
   "execution_count": 6,
   "id": "c0ab203c",
   "metadata": {},
   "outputs": [
    {
     "data": {
      "text/plain": [
       "'{\"1001\": {\"name\": \"MAC\", \"shade\": \"Beige\", \"price\": 1999, \"qty\": 100, \"discount\": 15}, \"1002\": {\"name\": \"Lakme\", \"shade\": \"Light\", \"price\": 999, \"qty\": 155, \"discount\": 10}, \"1003\": {\"name\": \"Rare\", \"shade\": \"Dark\", \"price\": 1500, \"qty\": 500, \"discount\": 20}, \"1004\": {\"name\": \"Lush\", \"shade\": \"Medium\", \"price\": 699, \"qty\": 30, \"discount\": 5}, \"1005\": {\"name\": \"Lotus\", \"shade\": \"Berry\", \"price\": 1255, \"qty\": 500, \"discount\": 40}, \"1006\": {\"name\": \"Kylie\", \"shade\": \"Sweet\", \"price\": 4599, \"qty\": 2200, \"discount\": 25}, \"1007\": {\"name\": \"Nars\", \"shade\": \"Warm\", \"price\": 3000, \"qty\": 250, \"discount\": 25}, \"1008\": {\"name\": \"Fenti\", \"shade\": \"Dark\", \"price\": 2999, \"qty\": 1005, \"discount\": 45}, \"1009\": {\"name\": \"Maybelline\", \"shade\": \"Cappuccino\", \"price\": 399, \"qty\": 400, \"discount\": 25}, \"1010\": {\"name\": \"Beverly Hills\", \"shade\": \"Almond\", \"price\": 3499, \"qty\": 700, \"discount\": 50}, \"1011\": {\"name\": \"Lakme\", \"shade\": \"Pure White\", \"price\": 500, \"qty\": 350, \"discount\": 45}, \"1012\": {\"name\": \"Clinique\", \"shade\": \"Neutral\", \"price\": 4599, \"qty\": 650, \"discount\": 25}, \"1013\": {\"name\": \"Bobbi Brown\", \"shade\": \"Versatile Brown\", \"price\": 2559, \"qty\": 645, \"discount\": 25}, \"1014\": {\"name\": \"Urban Decay\", \"shade\": \"lighter\", \"price\": 2500, \"qty\": 100, \"discount\": 10}, \"1015\": {\"name\": \"Dior\", \"shade\": \"Vanilla White\", \"price\": 6999, \"qty\": 350, \"discount\": 30}, \"1016\": {\"name\": \"Cover Girl\", \"shade\": \"Warm Beige\", \"price\": 4599, \"qty\": 60, \"discount\": 5}, \"1017\": {\"name\": \"Smash Box\", \"shade\": \"Purple\", \"price\": 2899, \"qty\": 500, \"discount\": 50}, \"1018\": {\"name\": \"Too Faced\", \"shade\": \"Glitter\", \"price\": 1999, \"qty\": 95, \"discount\": 10}, \"1019\": {\"name\": \"Sephora\", \"shade\": \"Blush\", \"price\": 4999, \"qty\": 300, \"discount\": 20}, \"1020\": {\"name\": \"Chanel\", \"shade\": \"Pearl\", \"price\": 5000, \"qty\": 10, \"discount\": 5}, \"1021\": {\"name\": \"Revlon\", \"shade\": \"Brownie\", \"price\": 3599, \"qty\": 300, \"discount\": 15}, \"1022\": {\"name\": \"Dior\", \"shade\": \"Pink\", \"price\": 6000, \"qty\": 380, \"discount\": 15}, \"1023\": {\"name\": \"BabyLips\", \"shade\": \"Red\", \"price\": 60, \"qty\": 500, \"discount\": 10}, \"1024\": {\"name\": \"Lakme\", \"shade\": \"Dark Brown\", \"price\": 499, \"qty\": 5000, \"discount\": 10}, \"1025\": {\"name\": \"Rare\", \"shade\": \"Medium Brown\", \"price\": 900, \"qty\": 1500, \"discount\": 25}, \"1026\": {\"name\": \"KKW\", \"shade\": \"Warm white\", \"price\": 5000, \"qty\": 200, \"discount\": 30}, \"1027\": {\"name\": \"Wild\", \"shade\": \"Light pink\", \"price\": 2500, \"qty\": 200, \"discount\": 10}, \"1028\": {\"name\": \"Nars\", \"shade\": \"Lilac\", \"price\": 2500, \"qty\": 150, \"discount\": 25}, \"1029\": {\"name\": \"Chanel\", \"shade\": \"Almond Brown\", \"price\": 6000, \"qty\": 15, \"discount\": 5}, \"1030\": {\"name\": \"Lush\", \"shade\": \"Darker Brown\", \"price\": 340, \"qty\": 100, \"discount\": 35}}'"
      ]
     },
     "execution_count": 6,
     "metadata": {},
     "output_type": "execute_result"
    }
   ],
   "source": [
    "new"
   ]
  },
  {
   "cell_type": "code",
   "execution_count": 7,
   "id": "57580516",
   "metadata": {},
   "outputs": [],
   "source": [
    "fd = open('Record.json','w')\n",
    "fd.write(new)\n",
    "fd.close()"
   ]
  },
  {
   "cell_type": "code",
   "execution_count": null,
   "id": "293b6dfb",
   "metadata": {},
   "outputs": [],
   "source": []
  }
 ],
 "metadata": {
  "kernelspec": {
   "display_name": "Python 3",
   "language": "python",
   "name": "python3"
  },
  "language_info": {
   "codemirror_mode": {
    "name": "ipython",
    "version": 3
   },
   "file_extension": ".py",
   "mimetype": "text/x-python",
   "name": "python",
   "nbconvert_exporter": "python",
   "pygments_lexer": "ipython3",
   "version": "3.8.8"
  }
 },
 "nbformat": 4,
 "nbformat_minor": 5
}
